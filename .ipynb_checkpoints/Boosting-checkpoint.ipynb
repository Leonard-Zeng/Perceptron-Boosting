{
 "cells": [
  {
   "cell_type": "markdown",
   "metadata": {
    "collapsed": true,
    "pycharm": {
     "is_executing": false,
     "name": "#%% md\n"
    }
   },
   "source": [
    "# CSE151A HW5\n",
    "Zheng Zeng A14679117"
   ]
  },
  {
   "cell_type": "markdown",
   "metadata": {
    "pycharm": {
     "name": "#%% md\n"
    }
   },
   "source": [
    "Firstly, importing libraries and data "
   ]
  },
  {
   "cell_type": "code",
   "execution_count": 64,
   "metadata": {
    "pycharm": {
     "is_executing": false,
     "name": "#%%\n"
    }
   },
   "outputs": [],
   "source": [
    "import numpy as np\n",
    "import math\n",
    "import random\n",
    "import pandas as pd\n",
    "train_data = np.genfromtxt(fname=\"pa5train.txt\", dtype=float, delimiter=' ')\n",
    "test_data = np.genfromtxt(fname=\"pa5test.txt\", dtype=float, delimiter=' ')\n",
    "dictionary = np.genfromtxt(fname=\"pa5dictionary.txt\", dtype=str)"
   ]
  },
  {
   "cell_type": "markdown",
   "metadata": {
    "pycharm": {
     "name": "#%% md\n"
    }
   },
   "source": [
    "Start to implement Boosting Algorithm"
   ]
  },
  {
   "cell_type": "code",
   "execution_count": 65,
   "metadata": {
    "pycharm": {
     "is_executing": false,
     "name": "#%%\n"
    }
   },
   "outputs": [],
   "source": [
    "def weak_learner(train_set, weights):\n",
    "    ans = {'idx': -1, 'err': 1}\n",
    "    for j in range(4003):\n",
    "        err = 0\n",
    "        for i in range(len(train_set)):\n",
    "            if train_set[i][j] > 0:\n",
    "                prediction = 1\n",
    "            else:\n",
    "                prediction = -1\n",
    "            if prediction != train_set[i][4003]:\n",
    "                err += weights[i]\n",
    "        if err < ans['err']:\n",
    "            ans['idx'] = j\n",
    "            ans['err'] = err\n",
    "    return ans\n",
    "\n",
    "def cal_weights(train_set, weights, a_t, h_t):\n",
    "    new_weights = np.zeros(len(train_set))\n",
    "    weights_sum = 0\n",
    "    for i in range(len(train_set)):\n",
    "        # firstly calculate the prediction\n",
    "        if train_set[i][h_t] > 0:\n",
    "            prediction = 1\n",
    "        else:\n",
    "            prediction = -1\n",
    "        new_weights[i] = weights[i] * math.exp(-1 * a_t * train_set[i][4003] * prediction)\n",
    "        weights_sum += new_weights[i]\n",
    "    new_weights /= weights_sum\n",
    "    return new_weights\n",
    "\n",
    "def boosting(train_set, weights, num_round):\n",
    "    d = [weights]\n",
    "    h = []\n",
    "    a = []\n",
    "    for t in range(num_round):\n",
    "        h_t = weak_learner(train_set, d[t])\n",
    "        e_t = h_t['err'] \n",
    "        a_t = 1/2*math.log((1-e_t)/e_t, math.e)\n",
    "        new_weights = cal_weights(train_set, d[t], a_t, h_t['idx'])\n",
    "        d.append(new_weights)\n",
    "        h.append(h_t['idx'])\n",
    "        a.append(a_t)\n",
    "    return {'a':np.asarray(a), 'h':np.asarray(h)}\n",
    "     \n",
    "def predict(data, a, h):\n",
    "    sign_check = 0\n",
    "    for i in range(len(h)):\n",
    "        if data[int(h[i])] > 0:\n",
    "            prediction = 1\n",
    "        else:\n",
    "            prediction = -1\n",
    "        sign_check += a[i] * prediction\n",
    "    if sign_check > 0:\n",
    "        return 1\n",
    "    elif sign_check < 0:\n",
    "        return -1\n",
    "    else:\n",
    "        return random.choice([1, -1])\n",
    "    \n",
    "def err(test_set, boost):\n",
    "    err_cnt = 0\n",
    "    for i in range(len(test_data)):\n",
    "        prediction = predict(test_set[i][:4003], boost['a'], boost['h'])\n",
    "        if prediction != test_set[i][4003]:\n",
    "            err_cnt += 1\n",
    "    return err_cnt/len(test_set)"
   ]
  },
  {
   "cell_type": "markdown",
   "metadata": {
    "pycharm": {
     "name": "#%% md\n"
    }
   },
   "source": [
    "Problem 1"
   ]
  },
  {
   "cell_type": "code",
   "execution_count": 66,
   "metadata": {
    "pycharm": {
     "is_executing": false,
     "name": "#%%\n"
    }
   },
   "outputs": [],
   "source": [
    "initial_weights = np.ones(len(train_data))\n",
    "initial_weights /= len(train_data)\n",
    "boost = boosting(train_data, initial_weights, 4)"
   ]
  },
  {
   "cell_type": "code",
   "execution_count": 68,
   "metadata": {
    "pycharm": {
     "is_executing": false,
     "name": "#%%\n"
    }
   },
   "outputs": [
    {
     "name": "stdout",
     "output_type": "stream",
     "text": [
      "0.07555555555555556\n",
      "0.17829457364341086\n"
     ]
    }
   ],
   "source": [
    "print(err(train_data, boost))\n",
    "print(err(test_data, boost))"
   ]
  }
 ],
 "metadata": {
  "kernelspec": {
   "display_name": "Python 3",
   "language": "python",
   "name": "python3"
  },
  "language_info": {
   "codemirror_mode": {
    "name": "ipython",
    "version": 3
   },
   "file_extension": ".py",
   "mimetype": "text/x-python",
   "name": "python",
   "nbconvert_exporter": "python",
   "pygments_lexer": "ipython3",
   "version": "3.7.0"
  },
  "pycharm": {
   "stem_cell": {
    "cell_type": "raw",
    "metadata": {
     "collapsed": false
    },
    "source": []
   }
  }
 },
 "nbformat": 4,
 "nbformat_minor": 1
}
